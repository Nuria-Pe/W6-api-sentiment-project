{
 "cells": [
  {
   "cell_type": "code",
   "execution_count": 1,
   "metadata": {},
   "outputs": [],
   "source": [
    "from pymongo import MongoClient\n",
    "import requests"
   ]
  },
  {
   "cell_type": "markdown",
   "metadata": {},
   "source": [
    "### Endpoint y parámetros de la query"
   ]
  },
  {
   "cell_type": "code",
   "execution_count": 5,
   "metadata": {},
   "outputs": [],
   "source": [
    "url_query = \"http://127.0.0.1:5000/frases/\"\n",
    "person = \"Bernie Sanders\""
   ]
  },
  {
   "cell_type": "code",
   "execution_count": 6,
   "metadata": {},
   "outputs": [
    {
     "data": {
      "text/plain": [
       "{'speaker': 'Bernie Sanders',\n",
       " 'speech': 'Well, you’re right, the economy is doing really great for people like Mr. Bloomberg and other billionaires. In the last three years, last three years, billionaires in this country saw an $850 billion increase in their wealth. But you know what, for the ordinary American things are not so good. Last year, real wage increases for the average worker were less than one percent. Half of our people are living paycheck to paycheck. 87 million Americans have no health insurance or are under-insured. 45 million people are struggling with student debt. 500,000 people tonight are sleeping out on the street, including 30,000 veterans. That is not an economy that’s working for the American people. That’s an economy working for the one percent. We’re going to create an economy for all, not just wealthy campaign contributors.'}"
      ]
     },
     "execution_count": 6,
     "metadata": {},
     "output_type": "execute_result"
    }
   ],
   "source": [
    "frases = requests.get(url_query + person).json()\n",
    "frases[0]"
   ]
  },
  {
   "cell_type": "markdown",
   "metadata": {},
   "source": [
    "### Llamada a la API para introducir Datos"
   ]
  },
  {
   "cell_type": "code",
   "execution_count": 7,
   "metadata": {},
   "outputs": [],
   "source": [
    "datos = {'date' : 2-26-2020,\n",
    "         'speaker' : 'Nuria Peñas',\n",
    "         'speech' : 'Probando nuevo proyecto'}"
   ]
  },
  {
   "cell_type": "code",
   "execution_count": 14,
   "metadata": {},
   "outputs": [],
   "source": [
    "url = \"http://127.0.0.1:5000/nuevafrase\""
   ]
  },
  {
   "cell_type": "code",
   "execution_count": 18,
   "metadata": {},
   "outputs": [
    {
     "data": {
      "text/plain": [
       "<Response [200]>"
      ]
     },
     "execution_count": 18,
     "metadata": {},
     "output_type": "execute_result"
    }
   ],
   "source": [
    "requests.post(url, data = datos)"
   ]
  }
 ],
 "metadata": {
  "kernelspec": {
   "display_name": "Python 3",
   "language": "python",
   "name": "python3"
  },
  "language_info": {
   "codemirror_mode": {
    "name": "ipython",
    "version": 3
   },
   "file_extension": ".py",
   "mimetype": "text/x-python",
   "name": "python",
   "nbconvert_exporter": "python",
   "pygments_lexer": "ipython3",
   "version": "3.8.5"
  }
 },
 "nbformat": 4,
 "nbformat_minor": 4
}
